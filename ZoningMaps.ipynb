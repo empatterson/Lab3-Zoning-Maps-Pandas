{
  "nbformat": 4,
  "nbformat_minor": 0,
  "metadata": {
    "colab": {
      "name": "Lab-3.ipynb",
      "provenance": [],
      "collapsed_sections": [],
      "authorship_tag": "ABX9TyMfvNpKM1Ili1aJtzR4BL0I",
      "include_colab_link": true
    },
    "kernelspec": {
      "name": "python3",
      "display_name": "Python 3"
    },
    "language_info": {
      "name": "python"
    }
  },
  "cells": [
    {
      "cell_type": "markdown",
      "metadata": {
        "id": "view-in-github",
        "colab_type": "text"
      },
      "source": [
        "<a href=\"https://colab.research.google.com/github/empatterson/Lab3-Zoning-Maps-Pandas/blob/main/ZoningMaps.ipynb\" target=\"_parent\"><img src=\"https://colab.research.google.com/assets/colab-badge.svg\" alt=\"Open In Colab\"/></a>"
      ]
    },
    {
      "cell_type": "code",
      "metadata": {
        "colab": {
          "base_uri": "https://localhost:8080/"
        },
        "id": "vmny8Fs8mEv7",
        "outputId": "ae7899e7-fc66-4674-d0ba-5d5ee8416087"
      },
      "source": [
        "#ADDS gis packages to colab\n",
        "!pip install geopandas\n",
        "! apt-get install - libspatialindex-dev\n",
        "!pip install rtree\n",
        "\n",
        "#import packages\n",
        "import pandas as pd #provides interface for interacting with tabular data\n",
        "import geopandas as gpd #combines capabilites of pandas and shapely for geospatial operations\n",
        "from shapely.geometry import Point, Polygon, MultiPolygon # for manipulating text data into shp\n",
        "from shapely import wkt #\"well known text\" for interchange across gis programs\n",
        "import rtree #supports geospatial join\n"
      ],
      "execution_count": null,
      "outputs": [
        {
          "output_type": "stream",
          "text": [
            "Collecting geopandas\n",
            "\u001b[?25l  Downloading https://files.pythonhosted.org/packages/d7/bf/e9cefb69d39155d122b6ddca53893b61535fa6ffdad70bf5ef708977f53f/geopandas-0.9.0-py2.py3-none-any.whl (994kB)\n",
            "\u001b[K     |████████████████████████████████| 1.0MB 5.0MB/s \n",
            "\u001b[?25hRequirement already satisfied: pandas>=0.24.0 in /usr/local/lib/python3.7/dist-packages (from geopandas) (1.1.5)\n",
            "Collecting pyproj>=2.2.0\n",
            "\u001b[?25l  Downloading https://files.pythonhosted.org/packages/b1/72/d52e9ca81caef056062d71991b0e9b1d16af042245627c5d0e4916a36c4f/pyproj-3.0.1-cp37-cp37m-manylinux2010_x86_64.whl (6.5MB)\n",
            "\u001b[K     |████████████████████████████████| 6.5MB 8.2MB/s \n",
            "\u001b[?25hCollecting fiona>=1.8\n",
            "\u001b[?25l  Downloading https://files.pythonhosted.org/packages/ea/2a/404b22883298a3efe9c6ef8d67acbf2c38443fa366ee9cd4cd34e17626ea/Fiona-1.8.19-cp37-cp37m-manylinux1_x86_64.whl (15.3MB)\n",
            "\u001b[K     |████████████████████████████████| 15.3MB 288kB/s \n",
            "\u001b[?25hRequirement already satisfied: shapely>=1.6 in /usr/local/lib/python3.7/dist-packages (from geopandas) (1.7.1)\n",
            "Requirement already satisfied: numpy>=1.15.4 in /usr/local/lib/python3.7/dist-packages (from pandas>=0.24.0->geopandas) (1.19.5)\n",
            "Requirement already satisfied: pytz>=2017.2 in /usr/local/lib/python3.7/dist-packages (from pandas>=0.24.0->geopandas) (2018.9)\n",
            "Requirement already satisfied: python-dateutil>=2.7.3 in /usr/local/lib/python3.7/dist-packages (from pandas>=0.24.0->geopandas) (2.8.1)\n",
            "Requirement already satisfied: certifi in /usr/local/lib/python3.7/dist-packages (from pyproj>=2.2.0->geopandas) (2020.12.5)\n",
            "Collecting munch\n",
            "  Downloading https://files.pythonhosted.org/packages/cc/ab/85d8da5c9a45e072301beb37ad7f833cd344e04c817d97e0cc75681d248f/munch-2.5.0-py2.py3-none-any.whl\n",
            "Collecting click-plugins>=1.0\n",
            "  Downloading https://files.pythonhosted.org/packages/e9/da/824b92d9942f4e472702488857914bdd50f73021efea15b4cad9aca8ecef/click_plugins-1.1.1-py2.py3-none-any.whl\n",
            "Requirement already satisfied: click<8,>=4.0 in /usr/local/lib/python3.7/dist-packages (from fiona>=1.8->geopandas) (7.1.2)\n",
            "Requirement already satisfied: attrs>=17 in /usr/local/lib/python3.7/dist-packages (from fiona>=1.8->geopandas) (20.3.0)\n",
            "Collecting cligj>=0.5\n",
            "  Downloading https://files.pythonhosted.org/packages/42/1e/947eadf10d6804bf276eb8a038bd5307996dceaaa41cfd21b7a15ec62f5d/cligj-0.7.1-py3-none-any.whl\n",
            "Requirement already satisfied: six>=1.7 in /usr/local/lib/python3.7/dist-packages (from fiona>=1.8->geopandas) (1.15.0)\n",
            "Installing collected packages: pyproj, munch, click-plugins, cligj, fiona, geopandas\n",
            "Successfully installed click-plugins-1.1.1 cligj-0.7.1 fiona-1.8.19 geopandas-0.9.0 munch-2.5.0 pyproj-3.0.1\n",
            "Reading package lists... Done\n",
            "Building dependency tree       \n",
            "Reading state information... Done\n",
            "The following package was automatically installed and is no longer required:\n",
            "  libnvidia-common-460\n",
            "Use 'apt autoremove' to remove it.\n",
            "The following additional packages will be installed:\n",
            "  libspatialindex-c4v5 libspatialindex4v5\n",
            "The following NEW packages will be installed:\n",
            "  libspatialindex-c4v5 libspatialindex-dev libspatialindex4v5\n",
            "0 upgraded, 3 newly installed, 0 to remove and 34 not upgraded.\n",
            "Need to get 555 kB of archives.\n",
            "After this operation, 3,308 kB of additional disk space will be used.\n",
            "Get:1 http://archive.ubuntu.com/ubuntu bionic/universe amd64 libspatialindex4v5 amd64 1.8.5-5 [219 kB]\n",
            "Get:2 http://archive.ubuntu.com/ubuntu bionic/universe amd64 libspatialindex-c4v5 amd64 1.8.5-5 [51.7 kB]\n",
            "Get:3 http://archive.ubuntu.com/ubuntu bionic/universe amd64 libspatialindex-dev amd64 1.8.5-5 [285 kB]\n",
            "Fetched 555 kB in 2s (281 kB/s)\n",
            "Selecting previously unselected package libspatialindex4v5:amd64.\n",
            "(Reading database ... 160690 files and directories currently installed.)\n",
            "Preparing to unpack .../libspatialindex4v5_1.8.5-5_amd64.deb ...\n",
            "Unpacking libspatialindex4v5:amd64 (1.8.5-5) ...\n",
            "Selecting previously unselected package libspatialindex-c4v5:amd64.\n",
            "Preparing to unpack .../libspatialindex-c4v5_1.8.5-5_amd64.deb ...\n",
            "Unpacking libspatialindex-c4v5:amd64 (1.8.5-5) ...\n",
            "Selecting previously unselected package libspatialindex-dev:amd64.\n",
            "Preparing to unpack .../libspatialindex-dev_1.8.5-5_amd64.deb ...\n",
            "Unpacking libspatialindex-dev:amd64 (1.8.5-5) ...\n",
            "Setting up libspatialindex4v5:amd64 (1.8.5-5) ...\n",
            "Setting up libspatialindex-c4v5:amd64 (1.8.5-5) ...\n",
            "Setting up libspatialindex-dev:amd64 (1.8.5-5) ...\n",
            "Processing triggers for libc-bin (2.27-3ubuntu1.2) ...\n",
            "/sbin/ldconfig.real: /usr/local/lib/python3.7/dist-packages/ideep4py/lib/libmkldnn.so.0 is not a symbolic link\n",
            "\n",
            "Collecting rtree\n",
            "\u001b[?25l  Downloading https://files.pythonhosted.org/packages/51/05/5a67111cee91d2165a2bcb855f442186e3d76ddef834596cc84d4875c401/Rtree-0.9.7-cp37-cp37m-manylinux2010_x86_64.whl (994kB)\n",
            "\u001b[K     |████████████████████████████████| 1.0MB 5.4MB/s \n",
            "\u001b[?25hInstalling collected packages: rtree\n",
            "Successfully installed rtree-0.9.7\n"
          ],
          "name": "stdout"
        }
      ]
    },
    {
      "cell_type": "code",
      "metadata": {
        "colab": {
          "base_uri": "https://localhost:8080/"
        },
        "id": "SreoL3dliIzF",
        "outputId": "7706851b-3b97-4e41-9e11-9a6e034257e2"
      },
      "source": [
        "from google.colab import drive\n",
        "drive.mount('/content/gdrive') #connects colab to google drive\n",
        "root_path = 'gdrive/My Drive/gis/'\n"
      ],
      "execution_count": null,
      "outputs": [
        {
          "output_type": "stream",
          "text": [
            "Mounted at /content/gdrive\n"
          ],
          "name": "stdout"
        }
      ]
    },
    {
      "cell_type": "code",
      "metadata": {
        "colab": {
          "base_uri": "https://localhost:8080/",
          "height": 366
        },
        "id": "ciSuCvowjIWm",
        "outputId": "98451276-d486-4c7c-bedf-e2a0ab42b49f"
      },
      "source": [
        "#read in PUDs file as a geodataframe and initialize coordinate reference system (crs)\n",
        "puds = gpd.read_file(root_path+'input/Planned_Unit_Development_(PUDs).shp', crs = {'init' :'epsg:4326'})\n",
        "aff = pd.read_csv(root_path+'input/Affordable_Housing.csv')\n",
        "crosswalk = pd.read_csv(root_path+'input/zoning_crosswalk.csv')\n",
        "#this code plans a sample frome the first 3 index places (4 rows)\n",
        "puds.sample(3) "
      ],
      "execution_count": null,
      "outputs": [
        {
          "output_type": "execute_result",
          "data": {
            "text/html": [
              "<div>\n",
              "<style scoped>\n",
              "    .dataframe tbody tr th:only-of-type {\n",
              "        vertical-align: middle;\n",
              "    }\n",
              "\n",
              "    .dataframe tbody tr th {\n",
              "        vertical-align: top;\n",
              "    }\n",
              "\n",
              "    .dataframe thead th {\n",
              "        text-align: right;\n",
              "    }\n",
              "</style>\n",
              "<table border=\"1\" class=\"dataframe\">\n",
              "  <thead>\n",
              "    <tr style=\"text-align: right;\">\n",
              "      <th></th>\n",
              "      <th>OBJECTID</th>\n",
              "      <th>PUD_NAME</th>\n",
              "      <th>PUD_WEB_UR</th>\n",
              "      <th>PUD_CHANGE</th>\n",
              "      <th>PUD_ZONING</th>\n",
              "      <th>PUD_STATUS</th>\n",
              "      <th>PUD_CASE_N</th>\n",
              "      <th>GLOBALID</th>\n",
              "      <th>WARD</th>\n",
              "      <th>SHAPEAREA</th>\n",
              "      <th>SHAPELEN</th>\n",
              "      <th>geometry</th>\n",
              "    </tr>\n",
              "  </thead>\n",
              "  <tbody>\n",
              "    <tr>\n",
              "      <th>60</th>\n",
              "      <td>186910</td>\n",
              "      <td>Pollin Memorial Community Dev.</td>\n",
              "      <td>https://app.dcoz.dc.gov/Content/Search/ViewCas...</td>\n",
              "      <td>Official Digital Zoning Map of July 1, 2010</td>\n",
              "      <td>R-5-A</td>\n",
              "      <td>Final</td>\n",
              "      <td>06-30</td>\n",
              "      <td>{801AF593-AD88-4C51-AF01-E035B2B1F96E}</td>\n",
              "      <td>Ward 7</td>\n",
              "      <td>0</td>\n",
              "      <td>0</td>\n",
              "      <td>POLYGON ((-76.95289 38.90531, -76.95140 38.904...</td>\n",
              "    </tr>\n",
              "    <tr>\n",
              "      <th>160</th>\n",
              "      <td>187099</td>\n",
              "      <td>301 FL Manager LLC</td>\n",
              "      <td>https://app.dcoz.dc.gov/Content/Search/ViewCas...</td>\n",
              "      <td>ZC 15-22, Time Extension to 11/22/2022, DC Reg...</td>\n",
              "      <td>C-3-C</td>\n",
              "      <td>Final</td>\n",
              "      <td>15-22A</td>\n",
              "      <td>{055A0DE9-0625-4CFA-A8FD-02C03A2C436B}</td>\n",
              "      <td>Ward 6</td>\n",
              "      <td>0</td>\n",
              "      <td>0</td>\n",
              "      <td>POLYGON ((-77.00188 38.90762, -77.00125 38.907...</td>\n",
              "    </tr>\n",
              "    <tr>\n",
              "      <th>253</th>\n",
              "      <td>187014</td>\n",
              "      <td>Washington Value Added I, LLC</td>\n",
              "      <td>https://app.dcoz.dc.gov/Content/Search/ViewCas...</td>\n",
              "      <td>Time Extension of PUD Lapsed, Expired in 2016</td>\n",
              "      <td>None</td>\n",
              "      <td>Expired</td>\n",
              "      <td>06-29C</td>\n",
              "      <td>{DE4E6C69-B287-4B94-8637-29AA66F39203}</td>\n",
              "      <td>Ward 2</td>\n",
              "      <td>0</td>\n",
              "      <td>0</td>\n",
              "      <td>POLYGON ((-77.04726 38.90463, -77.04726 38.904...</td>\n",
              "    </tr>\n",
              "  </tbody>\n",
              "</table>\n",
              "</div>"
            ],
            "text/plain": [
              "     OBJECTID  ...                                           geometry\n",
              "60     186910  ...  POLYGON ((-76.95289 38.90531, -76.95140 38.904...\n",
              "160    187099  ...  POLYGON ((-77.00188 38.90762, -77.00125 38.907...\n",
              "253    187014  ...  POLYGON ((-77.04726 38.90463, -77.04726 38.904...\n",
              "\n",
              "[3 rows x 12 columns]"
            ]
          },
          "metadata": {
            "tags": []
          },
          "execution_count": 8
        }
      ]
    },
    {
      "cell_type": "code",
      "metadata": {
        "colab": {
          "base_uri": "https://localhost:8080/"
        },
        "id": "TO1UFbNJnnYX",
        "outputId": "c4356712-9d36-4454-b579-50a249575118"
      },
      "source": [
        "#this gives you a summary of whats in the affordable housing .csv\n",
        "aff.info()\n"
      ],
      "execution_count": null,
      "outputs": [
        {
          "output_type": "stream",
          "text": [
            "<class 'pandas.core.frame.DataFrame'>\n",
            "RangeIndex: 558 entries, 0 to 557\n",
            "Data columns (total 22 columns):\n",
            " #   Column                         Non-Null Count  Dtype  \n",
            "---  ------                         --------------  -----  \n",
            " 0   X                              558 non-null    float64\n",
            " 1   Y                              558 non-null    float64\n",
            " 2   OBJECTID                       558 non-null    int64  \n",
            " 3   MAR_WARD                       558 non-null    object \n",
            " 4   ADDRESS                        555 non-null    object \n",
            " 5   PROJECT_NAME                   558 non-null    object \n",
            " 6   STATUS_PUBLIC                  558 non-null    object \n",
            " 7   AGENCY_CALCULATED              558 non-null    object \n",
            " 8   TOTAL_AFFORDABLE_UNITS         558 non-null    int64  \n",
            " 9   LATITUDE                       555 non-null    float64\n",
            " 10  LONGITUDE                      555 non-null    float64\n",
            " 11  AFFORDABLE_UNITS_AT_0_30_AMI   558 non-null    int64  \n",
            " 12  AFFORDABLE_UNITS_AT_31_50_AMI  558 non-null    int64  \n",
            " 13  AFFORDABLE_UNITS_AT_51_60_AMI  558 non-null    int64  \n",
            " 14  AFFORDABLE_UNITS_AT_61_80_AMI  558 non-null    int64  \n",
            " 15  AFFORDABLE_UNITS_AT_81_AMI     558 non-null    int64  \n",
            " 16  CASE_ID                        97 non-null     object \n",
            " 17  ADDRESS_ID                     488 non-null    float64\n",
            " 18  XCOORD                         558 non-null    float64\n",
            " 19  YCOORD                         558 non-null    float64\n",
            " 20  FULLADDRESS                    487 non-null    object \n",
            " 21  GIS_LAST_MOD_DTTM              558 non-null    object \n",
            "dtypes: float64(7), int64(7), object(8)\n",
            "memory usage: 96.0+ KB\n"
          ],
          "name": "stdout"
        }
      ]
    },
    {
      "cell_type": "code",
      "metadata": {
        "colab": {
          "base_uri": "https://localhost:8080/"
        },
        "id": "8UyP3UExnxjY",
        "outputId": "de5ae36f-dca3-47e6-c463-2651034e8598"
      },
      "source": [
        "#this shows a summary of what is in the PUD .shp file\n",
        "puds.info()"
      ],
      "execution_count": null,
      "outputs": [
        {
          "output_type": "stream",
          "text": [
            "<class 'geopandas.geodataframe.GeoDataFrame'>\n",
            "RangeIndex: 302 entries, 0 to 301\n",
            "Data columns (total 12 columns):\n",
            " #   Column      Non-Null Count  Dtype   \n",
            "---  ------      --------------  -----   \n",
            " 0   OBJECTID    302 non-null    int64   \n",
            " 1   PUD_NAME    302 non-null    object  \n",
            " 2   PUD_WEB_UR  302 non-null    object  \n",
            " 3   PUD_CHANGE  300 non-null    object  \n",
            " 4   PUD_ZONING  302 non-null    object  \n",
            " 5   PUD_STATUS  302 non-null    object  \n",
            " 6   PUD_CASE_N  302 non-null    object  \n",
            " 7   GLOBALID    302 non-null    object  \n",
            " 8   WARD        301 non-null    object  \n",
            " 9   SHAPEAREA   302 non-null    int64   \n",
            " 10  SHAPELEN    302 non-null    int64   \n",
            " 11  geometry    302 non-null    geometry\n",
            "dtypes: geometry(1), int64(3), object(8)\n",
            "memory usage: 28.4+ KB\n"
          ],
          "name": "stdout"
        }
      ]
    },
    {
      "cell_type": "code",
      "metadata": {
        "colab": {
          "base_uri": "https://localhost:8080/"
        },
        "id": "dlUpAB3fou4R",
        "outputId": "502e11a7-ac51-4de1-d36a-8a91e7ff8d63"
      },
      "source": [
        "#create a geometry column in the affordable housing dataframe\n",
        "aff['geometry'] = aff.apply(lambda row: Point(row.X, row.Y), axis=1)\n",
        "aff = gpd.GeoDataFrame(aff, crs={'init' :'epsg:4326'})\n"
      ],
      "execution_count": null,
      "outputs": [
        {
          "output_type": "stream",
          "text": [
            "/usr/local/lib/python3.7/dist-packages/pyproj/crs/crs.py:53: FutureWarning: '+init=<authority>:<code>' syntax is deprecated. '<authority>:<code>' is the preferred initialization method. When making the change, be mindful of axis order changes: https://pyproj4.github.io/pyproj/stable/gotchas.html#axis-order-changes-in-proj-6\n",
            "  return _prepare_from_string(\" \".join(pjargs))\n"
          ],
          "name": "stderr"
        }
      ]
    },
    {
      "cell_type": "code",
      "metadata": {
        "colab": {
          "base_uri": "https://localhost:8080/",
          "height": 168
        },
        "id": "rkrmoLcdqnNK",
        "outputId": "684a0851-78c7-4f18-f016-df88e2edf050"
      },
      "source": [
        "aff.sample(1) #sampling to the first index"
      ],
      "execution_count": null,
      "outputs": [
        {
          "output_type": "execute_result",
          "data": {
            "text/html": [
              "<div>\n",
              "<style scoped>\n",
              "    .dataframe tbody tr th:only-of-type {\n",
              "        vertical-align: middle;\n",
              "    }\n",
              "\n",
              "    .dataframe tbody tr th {\n",
              "        vertical-align: top;\n",
              "    }\n",
              "\n",
              "    .dataframe thead th {\n",
              "        text-align: right;\n",
              "    }\n",
              "</style>\n",
              "<table border=\"1\" class=\"dataframe\">\n",
              "  <thead>\n",
              "    <tr style=\"text-align: right;\">\n",
              "      <th></th>\n",
              "      <th>X</th>\n",
              "      <th>Y</th>\n",
              "      <th>OBJECTID</th>\n",
              "      <th>MAR_WARD</th>\n",
              "      <th>ADDRESS</th>\n",
              "      <th>PROJECT_NAME</th>\n",
              "      <th>STATUS_PUBLIC</th>\n",
              "      <th>AGENCY_CALCULATED</th>\n",
              "      <th>TOTAL_AFFORDABLE_UNITS</th>\n",
              "      <th>LATITUDE</th>\n",
              "      <th>LONGITUDE</th>\n",
              "      <th>AFFORDABLE_UNITS_AT_0_30_AMI</th>\n",
              "      <th>AFFORDABLE_UNITS_AT_31_50_AMI</th>\n",
              "      <th>AFFORDABLE_UNITS_AT_51_60_AMI</th>\n",
              "      <th>AFFORDABLE_UNITS_AT_61_80_AMI</th>\n",
              "      <th>AFFORDABLE_UNITS_AT_81_AMI</th>\n",
              "      <th>CASE_ID</th>\n",
              "      <th>ADDRESS_ID</th>\n",
              "      <th>XCOORD</th>\n",
              "      <th>YCOORD</th>\n",
              "      <th>FULLADDRESS</th>\n",
              "      <th>GIS_LAST_MOD_DTTM</th>\n",
              "      <th>geometry</th>\n",
              "    </tr>\n",
              "  </thead>\n",
              "  <tbody>\n",
              "    <tr>\n",
              "      <th>208</th>\n",
              "      <td>-77.079996</td>\n",
              "      <td>38.950084</td>\n",
              "      <td>1262</td>\n",
              "      <td>Ward 3</td>\n",
              "      <td>4611 41st Street Northwest, Washington, Distri...</td>\n",
              "      <td>4611 - 4615 41st Street NW</td>\n",
              "      <td>Pipeline</td>\n",
              "      <td>OP</td>\n",
              "      <td>3</td>\n",
              "      <td>38.950077</td>\n",
              "      <td>-77.079994</td>\n",
              "      <td>0</td>\n",
              "      <td>0</td>\n",
              "      <td>3</td>\n",
              "      <td>0</td>\n",
              "      <td>0</td>\n",
              "      <td>18-03</td>\n",
              "      <td>284944.0</td>\n",
              "      <td>393065.92</td>\n",
              "      <td>142467.23</td>\n",
              "      <td>4611 41ST STREET NW</td>\n",
              "      <td>2021/05/03 04:01:24+00</td>\n",
              "      <td>POINT (-77.08000 38.95008)</td>\n",
              "    </tr>\n",
              "  </tbody>\n",
              "</table>\n",
              "</div>"
            ],
            "text/plain": [
              "             X          Y  ...       GIS_LAST_MOD_DTTM                    geometry\n",
              "208 -77.079996  38.950084  ...  2021/05/03 04:01:24+00  POINT (-77.08000 38.95008)\n",
              "\n",
              "[1 rows x 23 columns]"
            ]
          },
          "metadata": {
            "tags": []
          },
          "execution_count": 12
        }
      ]
    },
    {
      "cell_type": "code",
      "metadata": {
        "colab": {
          "base_uri": "https://localhost:8080/"
        },
        "id": "40UZP0JIqwUA",
        "outputId": "43f2d5bd-8776-4326-883d-78aee36a02cc"
      },
      "source": [
        "#merge datasets based on their geographic intersection\n",
        "#use geospatial join to identify which PUDs include affordable housing projects\n",
        "puds_aff = gpd.sjoin(puds, aff, op='intersects', how='left')"
      ],
      "execution_count": null,
      "outputs": [
        {
          "output_type": "stream",
          "text": [
            "/usr/local/lib/python3.7/dist-packages/ipykernel_launcher.py:3: UserWarning: CRS mismatch between the CRS of left geometries and the CRS of right geometries.\n",
            "Use `to_crs()` to reproject one of the input geometries to match the CRS of the other.\n",
            "\n",
            "Left CRS: EPSG:4326\n",
            "Right CRS: +init=epsg:4326 +type=crs\n",
            "\n",
            "  This is separate from the ipykernel package so we can avoid doing imports until\n"
          ],
          "name": "stderr"
        }
      ]
    },
    {
      "cell_type": "code",
      "metadata": {
        "colab": {
          "base_uri": "https://localhost:8080/"
        },
        "id": "3ztUIIQaqz_7",
        "outputId": "76480b30-3543-4cad-ddf1-1a781ff58e6a"
      },
      "source": [
        "#check merge\n",
        "puds_aff.info()\n"
      ],
      "execution_count": null,
      "outputs": [
        {
          "output_type": "stream",
          "text": [
            "<class 'geopandas.geodataframe.GeoDataFrame'>\n",
            "Int64Index: 310 entries, 0 to 301\n",
            "Data columns (total 35 columns):\n",
            " #   Column                         Non-Null Count  Dtype   \n",
            "---  ------                         --------------  -----   \n",
            " 0   OBJECTID_left                  310 non-null    int64   \n",
            " 1   PUD_NAME                       310 non-null    object  \n",
            " 2   PUD_WEB_UR                     310 non-null    object  \n",
            " 3   PUD_CHANGE                     308 non-null    object  \n",
            " 4   PUD_ZONING                     310 non-null    object  \n",
            " 5   PUD_STATUS                     310 non-null    object  \n",
            " 6   PUD_CASE_N                     310 non-null    object  \n",
            " 7   GLOBALID                       310 non-null    object  \n",
            " 8   WARD                           309 non-null    object  \n",
            " 9   SHAPEAREA                      310 non-null    int64   \n",
            " 10  SHAPELEN                       310 non-null    int64   \n",
            " 11  geometry                       310 non-null    geometry\n",
            " 12  index_right                    83 non-null     float64 \n",
            " 13  X                              83 non-null     float64 \n",
            " 14  Y                              83 non-null     float64 \n",
            " 15  OBJECTID_right                 83 non-null     float64 \n",
            " 16  MAR_WARD                       83 non-null     object  \n",
            " 17  ADDRESS                        83 non-null     object  \n",
            " 18  PROJECT_NAME                   83 non-null     object  \n",
            " 19  STATUS_PUBLIC                  83 non-null     object  \n",
            " 20  AGENCY_CALCULATED              83 non-null     object  \n",
            " 21  TOTAL_AFFORDABLE_UNITS         83 non-null     float64 \n",
            " 22  LATITUDE                       83 non-null     float64 \n",
            " 23  LONGITUDE                      83 non-null     float64 \n",
            " 24  AFFORDABLE_UNITS_AT_0_30_AMI   83 non-null     float64 \n",
            " 25  AFFORDABLE_UNITS_AT_31_50_AMI  83 non-null     float64 \n",
            " 26  AFFORDABLE_UNITS_AT_51_60_AMI  83 non-null     float64 \n",
            " 27  AFFORDABLE_UNITS_AT_61_80_AMI  83 non-null     float64 \n",
            " 28  AFFORDABLE_UNITS_AT_81_AMI     83 non-null     float64 \n",
            " 29  CASE_ID                        67 non-null     object  \n",
            " 30  ADDRESS_ID                     70 non-null     float64 \n",
            " 31  XCOORD                         83 non-null     float64 \n",
            " 32  YCOORD                         83 non-null     float64 \n",
            " 33  FULLADDRESS                    70 non-null     object  \n",
            " 34  GIS_LAST_MOD_DTTM              83 non-null     object  \n",
            "dtypes: float64(15), geometry(1), int64(3), object(16)\n",
            "memory usage: 87.2+ KB\n"
          ],
          "name": "stdout"
        }
      ]
    },
    {
      "cell_type": "markdown",
      "metadata": {
        "id": "S18r94vwr30-"
      },
      "source": [
        ""
      ]
    },
    {
      "cell_type": "code",
      "metadata": {
        "id": "RoN3iEHxrLf7"
      },
      "source": [
        "#merge dataframe with zoning categories crosswalk\n",
        "puds_info = puds_aff.merge(crosswalk[['Zone_Cat']], how='left', left_on='PUD_ZONING', right_on=crosswalk['Zone'])\n"
      ],
      "execution_count": null,
      "outputs": []
    },
    {
      "cell_type": "code",
      "metadata": {
        "colab": {
          "base_uri": "https://localhost:8080/"
        },
        "id": "3QVaBxZbswHQ",
        "outputId": "30da9fb1-086a-49c6-a2d5-375998cbfc41"
      },
      "source": [
        "#print statement to show how many PUDS and how many with affordable housing\n",
        "print(f\"Total count of PUDs: {puds_info.shape[0]}\")\n",
        "print(f\"Count PUDs offering Affordable Housing: {puds_info.loc[~puds_info.PROJECT_NAME.isna()].shape[0]}\")"
      ],
      "execution_count": null,
      "outputs": [
        {
          "output_type": "stream",
          "text": [
            "Total count of PUDs: 310\n",
            "Count PUDs offering Affordable Housing: 83\n"
          ],
          "name": "stdout"
        }
      ]
    },
    {
      "cell_type": "code",
      "metadata": {
        "colab": {
          "base_uri": "https://localhost:8080/",
          "height": 1000
        },
        "id": "yQp2BwSCtKHi",
        "outputId": "ce58a46e-07ef-42ba-a375-4971d6627944"
      },
      "source": [
        "#create map of PUDs by Zoning Category\n",
        "puds_info.plot(column= 'Zone_Cat' , legend=True, figsize=(16,18)); \n"
      ],
      "execution_count": null,
      "outputs": [
        {
          "output_type": "display_data",
          "data": {
            "image/png": "[encoded data removed]",
            "text/plain": [
              "<Figure size 1152x1296 with 1 Axes>"
            ]
          },
          "metadata": {
            "tags": [],
            "needs_background": "light"
          }
        }
      ]
    },
    {
      "cell_type": "code",
      "metadata": {
        "colab": {
          "base_uri": "https://localhost:8080/",
          "height": 517
        },
        "id": "kfk5AHADt5Ij",
        "outputId": "cfffeffd-ee7e-41d1-850a-593c29d4d001"
      },
      "source": [
        "#create a map of PUDs that provide affordable housing in grey\n",
        "puds_info[puds_info['TOTAL_AFFORDABLE_UNITS']>0].plot(column='TOTAL_AFFORDABLE_UNITS', color='grey', figsize=(16,8));"
      ],
      "execution_count": null,
      "outputs": [
        {
          "output_type": "stream",
          "text": [
            "/usr/local/lib/python3.7/dist-packages/geopandas/plotting.py:642: UserWarning: Only specify one of 'column' or 'color'. Using 'color'.\n",
            "  \"Only specify one of 'column' or 'color'. Using 'color'.\", UserWarning\n"
          ],
          "name": "stderr"
        },
        {
          "output_type": "display_data",
          "data": {
            "image/png": "[encoded data removed]",
            "text/plain": [
              "<Figure size 1152x576 with 1 Axes>"
            ]
          },
          "metadata": {
            "tags": [],
            "needs_background": "light"
          }
        }
      ]
    },
    {
      "cell_type": "code",
      "metadata": {
        "colab": {
          "base_uri": "https://localhost:8080/"
        },
        "id": "OYuk-MGi4T8y",
        "outputId": "aabeedc4-2e18-48c7-cb46-9bf1fd364bcd"
      },
      "source": [
        "#export geodataframe as shapefile within Colab\n",
        "puds_info.to_file('puds_info.shp')\n",
        "\n",
        "#copy shapefile components from Colab environment to Google Drive using bash script\n",
        "!cp puds_info.cpg 'gdrive/My Drive/gis/output'\n",
        "!cp puds_info.dbf 'gdrive/My Drive/gis/output'\n",
        "!cp puds_info.prj 'gdrive/My Drive/gis/output'\n",
        "!cp puds_info.shp 'gdrive/My Drive/gis/output'\n",
        "!cp puds_info.shx 'gdrive/My Drive/gis/output'"
      ],
      "execution_count": null,
      "outputs": [
        {
          "output_type": "stream",
          "text": [
            "/usr/local/lib/python3.7/dist-packages/ipykernel_launcher.py:2: UserWarning: Column names longer than 10 characters will be truncated when saved to ESRI Shapefile.\n",
            "  \n"
          ],
          "name": "stderr"
        }
      ]
    }
  ]
}